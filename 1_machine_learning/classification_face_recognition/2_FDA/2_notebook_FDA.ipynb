{
 "cells": [
  {
   "cell_type": "markdown",
   "id": "fbf5d7a8-eaef-44ee-ae0b-7bd552f4b01e",
   "metadata": {},
   "source": [
    "# Library installation"
   ]
  },
  {
   "cell_type": "code",
   "execution_count": 3,
   "id": "d39b3e2e-32e8-4f09-b4e0-837bcd200108",
   "metadata": {},
   "outputs": [
    {
     "name": "stdout",
     "output_type": "stream",
     "text": [
      "\n",
      "  There is a binary version available but the source version is later:\n",
      "        binary source needs_compilation\n",
      "ggplot2  3.3.5  3.3.6             FALSE\n",
      "\n"
     ]
    },
    {
     "name": "stderr",
     "output_type": "stream",
     "text": [
      "installing the source package ‘ggplot2’\n",
      "\n",
      "\n"
     ]
    },
    {
     "name": "stdout",
     "output_type": "stream",
     "text": [
      "\n",
      "The downloaded binary packages are in\n",
      "\t/var/folders/q6/rqx7by952vl927kfl2fslt5h0000gn/T//Rtmp6F4R8w/downloaded_packages\n"
     ]
    }
   ],
   "source": [
    "install.packages('ggplot2')\n",
    "install.packages('cowplot')\n",
    "library('cowplot')\n",
    "library('ggplot2')"
   ]
  },
  {
   "cell_type": "code",
   "execution_count": 4,
   "id": "ea8ed5e9-f208-4c3f-a499-b1964d2d461b",
   "metadata": {},
   "outputs": [],
   "source": [
    "setwd('/Users/Antoine/Desktop/Cours/Carlos III/Cours/Statistical learning/Assignement_1')\n",
    "source(\"im2vect.R\")"
   ]
  },
  {
   "cell_type": "markdown",
   "id": "1a789bf1-814a-465a-a75c-668d49fdf77a",
   "metadata": {},
   "source": [
    "# Loading and preprocessing of the data"
   ]
  },
  {
   "cell_type": "code",
   "execution_count": 5,
   "id": "09535a40-6bbb-4c8c-917c-c7cd23000aeb",
   "metadata": {},
   "outputs": [],
   "source": [
    "setwd('/Users/Antoine/Desktop/Cours/Carlos III/Cours/Statistical learning/Assignement_1/training')"
   ]
  },
  {
   "cell_type": "code",
   "execution_count": 6,
   "id": "0bcc0584-28b0-4793-b603-b4322e8d4ccd",
   "metadata": {},
   "outputs": [],
   "source": [
    "# Creating a table of all the names of the images\n",
    "D = NULL #matrix name BDD\n",
    "for (k in 1:25){\n",
    "  v = c(paste(k,\"AT.jpg\",sep=\"\"),\n",
    "        paste(k,\"BT.jpg\",sep=\"\"),\n",
    "        paste(k,\"CT.jpg\",sep=\"\"),\n",
    "        paste(k,\"DT.jpg\",sep=\"\"),\n",
    "        paste(k,\"ET.jpg\",sep=\"\"),\n",
    "        paste(k,\"FT.jpg\",sep=\"\"))\n",
    "  D = cbind(D,v)}\n",
    "\n",
    "# Creating the training and validation data sets\n",
    "n = dim(D) \n",
    "Data = NULL\n",
    "index = NULL\n",
    "Class = c()\n",
    "for (j in 1:n[2]){ #across all people\n",
    "  for (i in 1:(n[1])){ #across the images\n",
    "    imacol = im2vect(D[i,j])\n",
    "    Data = rbind(Data,imacol)\n",
    "    index = rbind(index, D[i,j])#adding the names of the pictures as index and as a column\n",
    "    Class = append(Class,j)\n",
    "  }\n",
    "}\n",
    "rownames(Data) = index\n",
    "Data = cbind(Data,Class)"
   ]
  },
  {
   "cell_type": "markdown",
   "id": "09593551-1b6c-4207-b663-591aa4307d79",
   "metadata": {},
   "source": [
    "# Principal component analysis"
   ]
  },
  {
   "cell_type": "code",
   "execution_count": 7,
   "id": "9ccf050c-e7f2-4f16-ad60-708a49a8fe8b",
   "metadata": {},
   "outputs": [],
   "source": [
    "PCA = function(data){  # No class feature in data\n",
    "  n = dim(data)\n",
    "  mu = mean(data)\n",
    "  G = data-mu\n",
    "  SigmaS = 1/(n[1]-1)*G%*%t(G)\n",
    "  eig = eigen(SigmaS) # calculing the eigen vectors and values of the small sigma\n",
    "  eigvect = t(G)%*%eig$vectors # calculing the eigen vectors and values of the big sigma\n",
    "\n",
    "  #Selecting the more important eigen vectors\n",
    "  prop = cumsum(eig$values)/sum(eig$values)\n",
    "  Number_of_eigen_vectors = 1:length(prop)\n",
    "\n",
    "  ggplot(as.data.frame(prop), aes(x=Number_of_eigen_vectors , y=prop)) +\n",
    "  geom_line(stat = \"identity\")+geom_point()+labs(title = \"Proportion of variance reached\")+ ylab(\"\")\n",
    "  \n",
    "  N_PC =24 #number of eigenvectors choosen, \n",
    "  data.new = as.data.frame(data%*%eigvect[,1:N_PC])\n",
    "  return(list('data'=data.new, 'eig'=eigvect[,1:N_PC])) \n",
    "}"
   ]
  },
  {
   "cell_type": "markdown",
   "id": "6c12ff6a-2898-4854-940b-7fd4d0f3d612",
   "metadata": {},
   "source": [
    "# Fisher discriminant analysis"
   ]
  },
  {
   "cell_type": "code",
   "execution_count": 8,
   "id": "f625785a-859f-42e8-8206-1b846a71cc48",
   "metadata": {},
   "outputs": [],
   "source": [
    "FDA = function(k, data,propvar){ # k the number of classes\n",
    "  start_time <- Sys.time()\n",
    "  \n",
    "  m = colMeans(data[,1:ncol(data)-1]) # the mean matrix of the dataset's variables\n",
    "  \n",
    "  # Means of each classes\n",
    "  names(data)[length(names(data))]<-\"Class\" # we rename the class column \"Class\"\n",
    "  means = sapply(levels(data$Class), \n",
    "                 FUN = function(class){\n",
    "                   colMeans(data[data$Class==class, 1:(ncol(data)-1)])\n",
    "                 })\n",
    "  \n",
    "  # Scatter matrices\n",
    "  S.W=data.frame(matrix(0, ncol = ncol(data)-1, nrow=ncol(data)-1)) \n",
    "  for (u in levels(data$Class)){\n",
    "    Sw = cov(data[data$Class==u, 1:(ncol(data)-1)])*(table(data$Class)[1]-1)\n",
    "    S.W = S.W + Sw\n",
    "  }\n",
    "  \n",
    "  S.B=data.frame(matrix(0, ncol = ncol(data)-1, nrow=ncol(data)-1))\n",
    "  for (u in 1:length(levels(data$Class))){\n",
    "    Sb = (table(data$Class)[u])*(means[,u]-m)%*%t(means[,u]-m)\n",
    "    S.B = S.B + Sb\n",
    "  }\n",
    "  \n",
    "  # Eigen vectors and values\n",
    "  eig = eigen(as.matrix(solve(S.W))%*%as.matrix(S.B))\n",
    "  \n",
    "  # Proportion of variance\n",
    "  prop.var = eig$values/sum(eig$values)\n",
    "  cummulative.var = cumsum(eig$values/sum(eig$values))\n",
    "  i=1\n",
    "  while (cummulative.var[i]<propvar){\n",
    "    i=i+1\n",
    "  }\n",
    "  N_PC.FDA = i #determined after in the code 19\n",
    "  \n",
    "  eigenvector = eig$vectors[,1:N_PC.FDA]\n",
    "  eigenvalues = eig$values[1:N_PC.FDA]\n",
    "  \n",
    "  end_time = Sys.time()\n",
    "  data.new=as.data.frame(as.matrix(data[,1:ncol(data)-1])%*%eigenvector)\n",
    "  return(list('mean'=m,'eig'=eigenvector,'prop'=prop.var,'data'=data.new))\n",
    "}"
   ]
  },
  {
   "cell_type": "markdown",
   "id": "ee27e828-93c7-498d-a541-47a7ff388299",
   "metadata": {},
   "source": [
    "# K nearest neighbors"
   ]
  },
  {
   "cell_type": "code",
   "execution_count": 9,
   "id": "05e60591-a8d9-409e-b5fe-d3fd4ca712b5",
   "metadata": {},
   "outputs": [],
   "source": [
    "Knn = function (im,data,k,eig.pca,eig.fda,meth){\n",
    "  im = im2vect(im)\n",
    "  im = proj(im,eig.pca,eig.fda)\n",
    "  \n",
    "  data.new = as.data.frame(rbind(im,data[,1:ncol(data)-1]))#add im to the dataset\n",
    "\n",
    "  # Applying k-nn\n",
    "  distance = dist(data.new, method=meth, diag=FALSE) #matrix of euclidian distance \n",
    "  distance = as.matrix(distance)\n",
    "  distance = distance[2:nrow(distance),1]\n",
    "  distance = cbind('distance'=distance,'Class'=data[,ncol(data)])#matrix with the label of the distance between im and each im of the database\n",
    "  ord = distance[order(distance[,1]),]#tri de la matrice\n",
    "  return(as.data.frame(ord[1:k,]))\n",
    "}"
   ]
  },
  {
   "cell_type": "markdown",
   "id": "ad845cd0-1c42-43d8-864b-ca6a65d1e2c4",
   "metadata": {},
   "source": [
    "# Projection"
   ]
  },
  {
   "cell_type": "code",
   "execution_count": 10,
   "id": "4f5ceeaf-1268-4b80-ab28-a45fe1698fe5",
   "metadata": {},
   "outputs": [],
   "source": [
    "# Projection of a data into the new space, applying the PCA and Fischer\n",
    "proj = function(im, eig.pca, eig.fda){\n",
    "  im = as.matrix(t(im))%*%eig.pca #PCA\n",
    "  im = im%*%eig.fda #FDA\n",
    "  return(im)\n",
    "}"
   ]
  },
  {
   "cell_type": "markdown",
   "id": "d6cf2270-0218-48af-bfd7-cfb8d886b85d",
   "metadata": {},
   "source": [
    "# Distance metric"
   ]
  },
  {
   "cell_type": "code",
   "execution_count": 11,
   "id": "db0ada80-48cc-4475-97bc-4b262f0d128b",
   "metadata": {},
   "outputs": [],
   "source": [
    "# Distance between an image and its dataset\n",
    "ind = c()\n",
    "ext = c()\n",
    "\n",
    "for (i in 1:25){\n",
    "  nd = sample(x=1:6,size=1) #choose 1 random image from the 6 of each person\n",
    "  ind = append(ind,6*(i-1)+nd)\n",
    "  ext = append(ext,D[nd,i]) #list of images extracted\n",
    "}\n",
    "\n",
    "# We drop one image of each person, this image is randomly choosen\n",
    "data.train <- Data[-ind,]\n",
    "data.test = Data[ind,]"
   ]
  },
  {
   "cell_type": "code",
   "execution_count": 12,
   "id": "22dee55d-7cda-4d64-9490-d83c87881ea6",
   "metadata": {},
   "outputs": [],
   "source": [
    "# Method used to compute the distance\n",
    "methode = c('euclidian','manhattan','canberra') \n",
    "\n",
    "sim = function(im, k, data.train, meth, propvar){ #return k closest neighbours and distance\n",
    "  # Apply PCA to the dataset\n",
    "  data.pca = PCA(data.train[,1:ncol(data.train)-1])\n",
    "    \n",
    "  # Apply FDA\n",
    "  data.pca.class = cbind(data.pca$data,'Class'=as.factor(data.train[,ncol(data.train)]))#add the class vector\n",
    "  data.fda = FDA(25,data.pca.class,propvar)\n",
    "  data.fda.class = cbind(data.fda$data,'Class'=as.factor(data.train[,ncol(data.train)]))\n",
    "    \n",
    "  # Compute Knn\n",
    "  tri = Knn(im,data.fda.class,k,data.pca$eig,data.fda$eig,meth)\n",
    "  return(tri)\n",
    "}"
   ]
  },
  {
   "cell_type": "code",
   "execution_count": 28,
   "id": "ff17c671-fcaf-4bbd-826a-687cab7433fe",
   "metadata": {},
   "outputs": [
    {
     "data": {
      "text/html": [
       "<table class=\"dataframe\">\n",
       "<caption>A data.frame: 8 × 2</caption>\n",
       "<thead>\n",
       "\t<tr><th></th><th scope=col>distance</th><th scope=col>Class</th></tr>\n",
       "\t<tr><th></th><th scope=col>&lt;dbl&gt;</th><th scope=col>&lt;dbl&gt;</th></tr>\n",
       "</thead>\n",
       "<tbody>\n",
       "\t<tr><th scope=row>1FT.jpg</th><td>  58.00817</td><td>1</td></tr>\n",
       "\t<tr><th scope=row>1DT.jpg</th><td>  89.11478</td><td>1</td></tr>\n",
       "\t<tr><th scope=row>1ET.jpg</th><td> 127.10885</td><td>1</td></tr>\n",
       "\t<tr><th scope=row>1AT.jpg</th><td> 128.65969</td><td>1</td></tr>\n",
       "\t<tr><th scope=row>1BT.jpg</th><td> 129.97231</td><td>1</td></tr>\n",
       "\t<tr><th scope=row>9AT.jpg</th><td>1460.06763</td><td>9</td></tr>\n",
       "\t<tr><th scope=row>9BT.jpg</th><td>1465.47199</td><td>9</td></tr>\n",
       "\t<tr><th scope=row>9FT.jpg</th><td>1467.94411</td><td>9</td></tr>\n",
       "</tbody>\n",
       "</table>\n"
      ],
      "text/latex": [
       "A data.frame: 8 × 2\n",
       "\\begin{tabular}{r|ll}\n",
       "  & distance & Class\\\\\n",
       "  & <dbl> & <dbl>\\\\\n",
       "\\hline\n",
       "\t1FT.jpg &   58.00817 & 1\\\\\n",
       "\t1DT.jpg &   89.11478 & 1\\\\\n",
       "\t1ET.jpg &  127.10885 & 1\\\\\n",
       "\t1AT.jpg &  128.65969 & 1\\\\\n",
       "\t1BT.jpg &  129.97231 & 1\\\\\n",
       "\t9AT.jpg & 1460.06763 & 9\\\\\n",
       "\t9BT.jpg & 1465.47199 & 9\\\\\n",
       "\t9FT.jpg & 1467.94411 & 9\\\\\n",
       "\\end{tabular}\n"
      ],
      "text/markdown": [
       "\n",
       "A data.frame: 8 × 2\n",
       "\n",
       "| <!--/--> | distance &lt;dbl&gt; | Class &lt;dbl&gt; |\n",
       "|---|---|---|\n",
       "| 1FT.jpg |   58.00817 | 1 |\n",
       "| 1DT.jpg |   89.11478 | 1 |\n",
       "| 1ET.jpg |  127.10885 | 1 |\n",
       "| 1AT.jpg |  128.65969 | 1 |\n",
       "| 1BT.jpg |  129.97231 | 1 |\n",
       "| 9AT.jpg | 1460.06763 | 9 |\n",
       "| 9BT.jpg | 1465.47199 | 9 |\n",
       "| 9FT.jpg | 1467.94411 | 9 |\n",
       "\n"
      ],
      "text/plain": [
       "        distance   Class\n",
       "1FT.jpg   58.00817 1    \n",
       "1DT.jpg   89.11478 1    \n",
       "1ET.jpg  127.10885 1    \n",
       "1AT.jpg  128.65969 1    \n",
       "1BT.jpg  129.97231 1    \n",
       "9AT.jpg 1460.06763 9    \n",
       "9BT.jpg 1465.47199 9    \n",
       "9FT.jpg 1467.94411 9    "
      ]
     },
     "metadata": {},
     "output_type": "display_data"
    }
   ],
   "source": [
    "# Exemple\n",
    "similarite = sim(ext[1], 8, data.train, methode[1], 0.99)\n",
    "similarite"
   ]
  },
  {
   "cell_type": "markdown",
   "id": "6831eb02-7d74-437e-baf9-8eba040c58d1",
   "metadata": {},
   "source": [
    "# Prediction"
   ]
  },
  {
   "cell_type": "code",
   "execution_count": 14,
   "id": "a9cde62e-37b0-4073-adb3-99bb746df855",
   "metadata": {},
   "outputs": [],
   "source": [
    "# Guess the person thanks to the knn results  \n",
    "guess = function(im, k, data.train, meth,propvar){\n",
    "  similarite = sim(im,k,data.train,meth,propvar)\n",
    "  tb = as.data.frame(table(similarite$Class))\n",
    "  g = tb[which.max(tb$Freq),1]\n",
    "  g = as.matrix(g)\n",
    "  return(as.numeric(g))\n",
    "}"
   ]
  },
  {
   "cell_type": "markdown",
   "id": "0509c36d-3188-4609-8e4d-4e9b6b3afea5",
   "metadata": {},
   "source": [
    "# Full pipeline"
   ]
  },
  {
   "cell_type": "code",
   "execution_count": 25,
   "id": "12262b3f-eaf8-4d00-91ad-11abf045d0ab",
   "metadata": {},
   "outputs": [],
   "source": [
    "# Final classifier\n",
    "Classifier = function (name_im){\n",
    "  similarite = sim(name_im, 6, data.train, 'euclidian', 0.99)\n",
    "  if (similarite$distance[1]>450){\n",
    "    g = 'the image doesn t belong to the dataset'\n",
    "  }\n",
    "  else{\n",
    "    tb = as.data.frame(table(similarite$Class))\n",
    "    g = tb[which.max(tb$Freq),1]\n",
    "    g = as.matrix(g)\n",
    "    g = as.numeric(g)\n",
    "  }\n",
    "  return(g)\n",
    "}"
   ]
  },
  {
   "cell_type": "markdown",
   "id": "0f9158f9-4164-416c-a88f-1143115bb383",
   "metadata": {},
   "source": [
    "# Evaluation"
   ]
  },
  {
   "cell_type": "code",
   "execution_count": 36,
   "id": "50c2b896-3680-4bf2-8562-bbf962c80786",
   "metadata": {},
   "outputs": [
    {
     "data": {
      "text/html": [
       "1"
      ],
      "text/latex": [
       "1"
      ],
      "text/markdown": [
       "1"
      ],
      "text/plain": [
       "[1] 1"
      ]
     },
     "metadata": {},
     "output_type": "display_data"
    }
   ],
   "source": [
    "# Example\n",
    "Classifier('1CT.jpg')"
   ]
  },
  {
   "cell_type": "code",
   "execution_count": 35,
   "id": "dd786bd3-227f-4601-8a36-6aa98075d6d6",
   "metadata": {},
   "outputs": [
    {
     "data": {
      "text/html": [
       "<table class=\"dataframe\">\n",
       "<caption>A matrix: 25 × 2 of type chr</caption>\n",
       "<tbody>\n",
       "\t<tr><td>1 </td><td>1CT.jpg </td></tr>\n",
       "\t<tr><td>2 </td><td>2DT.jpg </td></tr>\n",
       "\t<tr><td>3 </td><td>3ET.jpg </td></tr>\n",
       "\t<tr><td>4 </td><td>4DT.jpg </td></tr>\n",
       "\t<tr><td>5 </td><td>5DT.jpg </td></tr>\n",
       "\t<tr><td>6 </td><td>6FT.jpg </td></tr>\n",
       "\t<tr><td>7 </td><td>7DT.jpg </td></tr>\n",
       "\t<tr><td>8 </td><td>8AT.jpg </td></tr>\n",
       "\t<tr><td>9 </td><td>9DT.jpg </td></tr>\n",
       "\t<tr><td>10</td><td>10AT.jpg</td></tr>\n",
       "\t<tr><td>11</td><td>11DT.jpg</td></tr>\n",
       "\t<tr><td>12</td><td>12DT.jpg</td></tr>\n",
       "\t<tr><td>13</td><td>13ET.jpg</td></tr>\n",
       "\t<tr><td>14</td><td>14BT.jpg</td></tr>\n",
       "\t<tr><td>15</td><td>15DT.jpg</td></tr>\n",
       "\t<tr><td>16</td><td>16BT.jpg</td></tr>\n",
       "\t<tr><td>17</td><td>17BT.jpg</td></tr>\n",
       "\t<tr><td>18</td><td>18CT.jpg</td></tr>\n",
       "\t<tr><td>19</td><td>19FT.jpg</td></tr>\n",
       "\t<tr><td>20</td><td>20BT.jpg</td></tr>\n",
       "\t<tr><td>21</td><td>21BT.jpg</td></tr>\n",
       "\t<tr><td>22</td><td>22BT.jpg</td></tr>\n",
       "\t<tr><td>23</td><td>23FT.jpg</td></tr>\n",
       "\t<tr><td>24</td><td>24ET.jpg</td></tr>\n",
       "\t<tr><td>25</td><td>25BT.jpg</td></tr>\n",
       "</tbody>\n",
       "</table>\n"
      ],
      "text/latex": [
       "A matrix: 25 × 2 of type chr\n",
       "\\begin{tabular}{ll}\n",
       "\t 1  & 1CT.jpg \\\\\n",
       "\t 2  & 2DT.jpg \\\\\n",
       "\t 3  & 3ET.jpg \\\\\n",
       "\t 4  & 4DT.jpg \\\\\n",
       "\t 5  & 5DT.jpg \\\\\n",
       "\t 6  & 6FT.jpg \\\\\n",
       "\t 7  & 7DT.jpg \\\\\n",
       "\t 8  & 8AT.jpg \\\\\n",
       "\t 9  & 9DT.jpg \\\\\n",
       "\t 10 & 10AT.jpg\\\\\n",
       "\t 11 & 11DT.jpg\\\\\n",
       "\t 12 & 12DT.jpg\\\\\n",
       "\t 13 & 13ET.jpg\\\\\n",
       "\t 14 & 14BT.jpg\\\\\n",
       "\t 15 & 15DT.jpg\\\\\n",
       "\t 16 & 16BT.jpg\\\\\n",
       "\t 17 & 17BT.jpg\\\\\n",
       "\t 18 & 18CT.jpg\\\\\n",
       "\t 19 & 19FT.jpg\\\\\n",
       "\t 20 & 20BT.jpg\\\\\n",
       "\t 21 & 21BT.jpg\\\\\n",
       "\t 22 & 22BT.jpg\\\\\n",
       "\t 23 & 23FT.jpg\\\\\n",
       "\t 24 & 24ET.jpg\\\\\n",
       "\t 25 & 25BT.jpg\\\\\n",
       "\\end{tabular}\n"
      ],
      "text/markdown": [
       "\n",
       "A matrix: 25 × 2 of type chr\n",
       "\n",
       "| 1  | 1CT.jpg  |\n",
       "| 2  | 2DT.jpg  |\n",
       "| 3  | 3ET.jpg  |\n",
       "| 4  | 4DT.jpg  |\n",
       "| 5  | 5DT.jpg  |\n",
       "| 6  | 6FT.jpg  |\n",
       "| 7  | 7DT.jpg  |\n",
       "| 8  | 8AT.jpg  |\n",
       "| 9  | 9DT.jpg  |\n",
       "| 10 | 10AT.jpg |\n",
       "| 11 | 11DT.jpg |\n",
       "| 12 | 12DT.jpg |\n",
       "| 13 | 13ET.jpg |\n",
       "| 14 | 14BT.jpg |\n",
       "| 15 | 15DT.jpg |\n",
       "| 16 | 16BT.jpg |\n",
       "| 17 | 17BT.jpg |\n",
       "| 18 | 18CT.jpg |\n",
       "| 19 | 19FT.jpg |\n",
       "| 20 | 20BT.jpg |\n",
       "| 21 | 21BT.jpg |\n",
       "| 22 | 22BT.jpg |\n",
       "| 23 | 23FT.jpg |\n",
       "| 24 | 24ET.jpg |\n",
       "| 25 | 25BT.jpg |\n",
       "\n"
      ],
      "text/plain": [
       "      [,1] [,2]    \n",
       " [1,] 1    1CT.jpg \n",
       " [2,] 2    2DT.jpg \n",
       " [3,] 3    3ET.jpg \n",
       " [4,] 4    4DT.jpg \n",
       " [5,] 5    5DT.jpg \n",
       " [6,] 6    6FT.jpg \n",
       " [7,] 7    7DT.jpg \n",
       " [8,] 8    8AT.jpg \n",
       " [9,] 9    9DT.jpg \n",
       "[10,] 10   10AT.jpg\n",
       "[11,] 11   11DT.jpg\n",
       "[12,] 12   12DT.jpg\n",
       "[13,] 13   13ET.jpg\n",
       "[14,] 14   14BT.jpg\n",
       "[15,] 15   15DT.jpg\n",
       "[16,] 16   16BT.jpg\n",
       "[17,] 17   17BT.jpg\n",
       "[18,] 18   18CT.jpg\n",
       "[19,] 19   19FT.jpg\n",
       "[20,] 20   20BT.jpg\n",
       "[21,] 21   21BT.jpg\n",
       "[22,] 22   22BT.jpg\n",
       "[23,] 23   23FT.jpg\n",
       "[24,] 24   24ET.jpg\n",
       "[25,] 25   25BT.jpg"
      ]
     },
     "metadata": {},
     "output_type": "display_data"
    }
   ],
   "source": [
    "# Apply on all test dataset\n",
    "result = NULL\n",
    "for (k in rownames(data.test)){\n",
    "    result = rbind(result, Classifier(k))\n",
    "}\n",
    "cbind(result, rownames(data.test))"
   ]
  },
  {
   "cell_type": "code",
   "execution_count": null,
   "id": "cddc724c-cf60-453e-b294-8b8e4daeecda",
   "metadata": {},
   "outputs": [],
   "source": []
  }
 ],
 "metadata": {
  "kernelspec": {
   "display_name": "R",
   "language": "R",
   "name": "ir"
  },
  "language_info": {
   "codemirror_mode": "r",
   "file_extension": ".r",
   "mimetype": "text/x-r-source",
   "name": "R",
   "pygments_lexer": "r",
   "version": "4.0.2"
  }
 },
 "nbformat": 4,
 "nbformat_minor": 5
}
