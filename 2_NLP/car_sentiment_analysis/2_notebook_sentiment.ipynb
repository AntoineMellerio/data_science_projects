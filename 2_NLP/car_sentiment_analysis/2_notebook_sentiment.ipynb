{
 "cells": [
  {
   "cell_type": "code",
   "execution_count": 9,
   "id": "13b7dc0f",
   "metadata": {},
   "outputs": [],
   "source": [
    "import os\n",
    "\n",
    "import numpy as np\n",
    "import pandas as pd\n",
    "import seaborn as sns\n",
    "import matplotlib.pyplot as plt"
   ]
  },
  {
   "cell_type": "markdown",
   "id": "97feaf17",
   "metadata": {},
   "source": [
    "# Data importation"
   ]
  },
  {
   "cell_type": "code",
   "execution_count": 11,
   "id": "6724da1c",
   "metadata": {},
   "outputs": [
    {
     "data": {
      "text/html": [
       "<div>\n",
       "<style scoped>\n",
       "    .dataframe tbody tr th:only-of-type {\n",
       "        vertical-align: middle;\n",
       "    }\n",
       "\n",
       "    .dataframe tbody tr th {\n",
       "        vertical-align: top;\n",
       "    }\n",
       "\n",
       "    .dataframe thead th {\n",
       "        text-align: right;\n",
       "    }\n",
       "</style>\n",
       "<table border=\"1\" class=\"dataframe\">\n",
       "  <thead>\n",
       "    <tr style=\"text-align: right;\">\n",
       "      <th></th>\n",
       "      <th>marque</th>\n",
       "      <th>sous_marque</th>\n",
       "      <th>forum_id</th>\n",
       "      <th>forum_name</th>\n",
       "      <th>date</th>\n",
       "      <th>text</th>\n",
       "      <th>joined_text</th>\n",
       "      <th>n_words</th>\n",
       "      <th>cleaned_text</th>\n",
       "      <th>tokenized_text</th>\n",
       "      <th>tokenized_wo_stopwords</th>\n",
       "    </tr>\n",
       "  </thead>\n",
       "  <tbody>\n",
       "    <tr>\n",
       "      <th>0</th>\n",
       "      <td>Dacia</td>\n",
       "      <td>Dacia Spring</td>\n",
       "      <td>38723</td>\n",
       "      <td>Mise à jour de la cartographie pour la navigation</td>\n",
       "      <td>2021-12-04 19:06:48</td>\n",
       "      <td>[\\nJ'ai fait la mise à jour de la cartographie...</td>\n",
       "      <td>\\nJ'ai fait la mise à jour de la cartographie ...</td>\n",
       "      <td>46</td>\n",
       "      <td>j ai fait la mise a jour de la cartographie co...</td>\n",
       "      <td>[j, ai, fait, la, mise, a, jour, de, la, carto...</td>\n",
       "      <td>[fait, mise, jour, cartographie, comme, indiqu...</td>\n",
       "    </tr>\n",
       "    <tr>\n",
       "      <th>1</th>\n",
       "      <td>Dacia</td>\n",
       "      <td>Dacia Spring</td>\n",
       "      <td>40101</td>\n",
       "      <td>Application My Dacia abonnement payant à prévoir?</td>\n",
       "      <td>2022-01-16 11:55:46</td>\n",
       "      <td>[\\nBonjour \\n, \\nDésolé pour le titre un peut ...</td>\n",
       "      <td>\\nBonjour \\n \\nDésolé pour le titre un peut \"p...</td>\n",
       "      <td>151</td>\n",
       "      <td>bonjour  desole pour le titre un peut  putacli...</td>\n",
       "      <td>[bonjour, desole, pour, le, titre, un, peut, p...</td>\n",
       "      <td>[bonjour, desole, titre, peut, putaclic, rendu...</td>\n",
       "    </tr>\n",
       "    <tr>\n",
       "      <th>2</th>\n",
       "      <td>Dacia</td>\n",
       "      <td>Dacia Spring</td>\n",
       "      <td>40121</td>\n",
       "      <td>Climatisation avec MY Dacia: \"Les conditions d...</td>\n",
       "      <td>2022-01-17 06:47:40</td>\n",
       "      <td>[\\nBonjour,\\n, \\nJ'ai voulu lancer une climati...</td>\n",
       "      <td>\\nBonjour,\\n \\nJ'ai voulu lancer une climatisa...</td>\n",
       "      <td>109</td>\n",
       "      <td>bonjour  j ai voulu lancer une climatisation d...</td>\n",
       "      <td>[bonjour, j, ai, voulu, lancer, une, climatisa...</td>\n",
       "      <td>[bonjour, voulu, lancer, climatisation, spring...</td>\n",
       "    </tr>\n",
       "    <tr>\n",
       "      <th>3</th>\n",
       "      <td>Dacia</td>\n",
       "      <td>Dacia Spring</td>\n",
       "      <td>39939</td>\n",
       "      <td>Option combo CCS DC 30kW</td>\n",
       "      <td>2022-01-12 00:57:22</td>\n",
       "      <td>[\\nBonjour à tous je suis nouveau sur ce forum...</td>\n",
       "      <td>\\nBonjour à tous je suis nouveau sur ce forum ...</td>\n",
       "      <td>226</td>\n",
       "      <td>bonjour a tous je suis nouveau sur ce forum et...</td>\n",
       "      <td>[bonjour, a, tous, je, suis, nouveau, sur, ce,...</td>\n",
       "      <td>[bonjour, tous, nouveau, forum, viens, recepti...</td>\n",
       "    </tr>\n",
       "    <tr>\n",
       "      <th>4</th>\n",
       "      <td>Dacia</td>\n",
       "      <td>Dacia Spring</td>\n",
       "      <td>38202</td>\n",
       "      <td>Customisation Spring</td>\n",
       "      <td>2021-11-19 21:01:43</td>\n",
       "      <td>[\\nJ'ai vu la vidéo d'un bricoleur qui a ajout...</td>\n",
       "      <td>\\nJ'ai vu la vidéo d'un bricoleur qui a ajouté...</td>\n",
       "      <td>82</td>\n",
       "      <td>j ai vu la video d un bricoleur qui a ajoute d...</td>\n",
       "      <td>[j, ai, vu, la, video, d, un, bricoleur, qui, ...</td>\n",
       "      <td>[vu, video, bricoleur, ajoute, feux, leds, spr...</td>\n",
       "    </tr>\n",
       "    <tr>\n",
       "      <th>5</th>\n",
       "      <td>Dacia</td>\n",
       "      <td>Dacia Spring</td>\n",
       "      <td>40183</td>\n",
       "      <td>Bruit trop fort en marche arrière</td>\n",
       "      <td>2022-01-18 14:29:33</td>\n",
       "      <td>[\\nBonjour,\\n, \\nQuand est il de ce bruit qui ...</td>\n",
       "      <td>\\nBonjour,\\n \\nQuand est il de ce bruit qui re...</td>\n",
       "      <td>31</td>\n",
       "      <td>bonjour  quand est il de ce bruit qui reveilla...</td>\n",
       "      <td>[bonjour, quand, est, il, de, ce, bruit, qui, ...</td>\n",
       "      <td>[bonjour, quand, bruit, reveillait, tout, mond...</td>\n",
       "    </tr>\n",
       "    <tr>\n",
       "      <th>6</th>\n",
       "      <td>Dacia</td>\n",
       "      <td>Dacia Spring</td>\n",
       "      <td>40120</td>\n",
       "      <td>Appli Dacia : parfois un peu chaotique ?</td>\n",
       "      <td>2022-01-17 06:13:35</td>\n",
       "      <td>[\\nBonjour,\\n, \\nCe matin , comportement un pe...</td>\n",
       "      <td>\\nBonjour,\\n \\nCe matin , comportement un peu ...</td>\n",
       "      <td>28</td>\n",
       "      <td>bonjour  ce matin   comportement un peu etrang...</td>\n",
       "      <td>[bonjour, ce, matin, comportement, un, peu, et...</td>\n",
       "      <td>[bonjour, matin, comportement, peu, etrange, a...</td>\n",
       "    </tr>\n",
       "    <tr>\n",
       "      <th>7</th>\n",
       "      <td>Dacia</td>\n",
       "      <td>Dacia Spring</td>\n",
       "      <td>38205</td>\n",
       "      <td>Débrancher le haut parleur extérieur</td>\n",
       "      <td>2021-11-19 23:29:01</td>\n",
       "      <td>[\\nLe bruit extérieur est un peu désagréable, ...</td>\n",
       "      <td>\\nLe bruit extérieur est un peu désagréable, s...</td>\n",
       "      <td>39</td>\n",
       "      <td>le bruit exterieur est un peu desagreable  sur...</td>\n",
       "      <td>[le, bruit, exterieur, est, un, peu, desagreab...</td>\n",
       "      <td>[bruit, exterieur, peu, desagreable, surtout, ...</td>\n",
       "    </tr>\n",
       "    <tr>\n",
       "      <th>8</th>\n",
       "      <td>Dacia</td>\n",
       "      <td>Dacia Spring</td>\n",
       "      <td>40157</td>\n",
       "      <td>Changer l'intensité de charge du CRO de la Spr...</td>\n",
       "      <td>2022-01-17 19:47:45</td>\n",
       "      <td>[\\nBonjour,\\n, \\nc'est une demande inhabituell...</td>\n",
       "      <td>\\nBonjour,\\n \\nc'est une demande inhabituelle,...</td>\n",
       "      <td>85</td>\n",
       "      <td>bonjour  c est une demande inhabituelle  mais ...</td>\n",
       "      <td>[bonjour, c, est, une, demande, inhabituelle, ...</td>\n",
       "      <td>[bonjour, demande, inhabituelle, aimerais, red...</td>\n",
       "    </tr>\n",
       "    <tr>\n",
       "      <th>9</th>\n",
       "      <td>Dacia</td>\n",
       "      <td>Dacia Spring</td>\n",
       "      <td>36751</td>\n",
       "      <td>Dacia Spring - Recharge au domicile</td>\n",
       "      <td>2021-10-06 08:25:53</td>\n",
       "      <td>[\\nBonjour,\\n, \\n \\n, \\nAvant d'avoir un sujet...</td>\n",
       "      <td>\\nBonjour,\\n \\n \\n \\nAvant d'avoir un sujet au...</td>\n",
       "      <td>31</td>\n",
       "      <td>bonjour    avant d avoir un sujet au sein  la ...</td>\n",
       "      <td>[bonjour, avant, d, avoir, un, sujet, au, sein...</td>\n",
       "      <td>[bonjour, avant, avoir, sujet, sein, charge, a...</td>\n",
       "    </tr>\n",
       "  </tbody>\n",
       "</table>\n",
       "</div>"
      ],
      "text/plain": [
       "   marque   sous_marque  forum_id  \\\n",
       "0  Dacia   Dacia Spring     38723   \n",
       "1  Dacia   Dacia Spring     40101   \n",
       "2  Dacia   Dacia Spring     40121   \n",
       "3  Dacia   Dacia Spring     39939   \n",
       "4  Dacia   Dacia Spring     38202   \n",
       "5  Dacia   Dacia Spring     40183   \n",
       "6  Dacia   Dacia Spring     40120   \n",
       "7  Dacia   Dacia Spring     38205   \n",
       "8  Dacia   Dacia Spring     40157   \n",
       "9  Dacia   Dacia Spring     36751   \n",
       "\n",
       "                                          forum_name                date  \\\n",
       "0  Mise à jour de la cartographie pour la navigation 2021-12-04 19:06:48   \n",
       "1  Application My Dacia abonnement payant à prévoir? 2022-01-16 11:55:46   \n",
       "2  Climatisation avec MY Dacia: \"Les conditions d... 2022-01-17 06:47:40   \n",
       "3                           Option combo CCS DC 30kW 2022-01-12 00:57:22   \n",
       "4                               Customisation Spring 2021-11-19 21:01:43   \n",
       "5                  Bruit trop fort en marche arrière 2022-01-18 14:29:33   \n",
       "6           Appli Dacia : parfois un peu chaotique ? 2022-01-17 06:13:35   \n",
       "7               Débrancher le haut parleur extérieur 2021-11-19 23:29:01   \n",
       "8  Changer l'intensité de charge du CRO de la Spr... 2022-01-17 19:47:45   \n",
       "9                Dacia Spring - Recharge au domicile 2021-10-06 08:25:53   \n",
       "\n",
       "                                                text  \\\n",
       "0  [\\nJ'ai fait la mise à jour de la cartographie...   \n",
       "1  [\\nBonjour \\n, \\nDésolé pour le titre un peut ...   \n",
       "2  [\\nBonjour,\\n, \\nJ'ai voulu lancer une climati...   \n",
       "3  [\\nBonjour à tous je suis nouveau sur ce forum...   \n",
       "4  [\\nJ'ai vu la vidéo d'un bricoleur qui a ajout...   \n",
       "5  [\\nBonjour,\\n, \\nQuand est il de ce bruit qui ...   \n",
       "6  [\\nBonjour,\\n, \\nCe matin , comportement un pe...   \n",
       "7  [\\nLe bruit extérieur est un peu désagréable, ...   \n",
       "8  [\\nBonjour,\\n, \\nc'est une demande inhabituell...   \n",
       "9  [\\nBonjour,\\n, \\n \\n, \\nAvant d'avoir un sujet...   \n",
       "\n",
       "                                         joined_text  n_words  \\\n",
       "0  \\nJ'ai fait la mise à jour de la cartographie ...       46   \n",
       "1  \\nBonjour \\n \\nDésolé pour le titre un peut \"p...      151   \n",
       "2  \\nBonjour,\\n \\nJ'ai voulu lancer une climatisa...      109   \n",
       "3  \\nBonjour à tous je suis nouveau sur ce forum ...      226   \n",
       "4  \\nJ'ai vu la vidéo d'un bricoleur qui a ajouté...       82   \n",
       "5  \\nBonjour,\\n \\nQuand est il de ce bruit qui re...       31   \n",
       "6  \\nBonjour,\\n \\nCe matin , comportement un peu ...       28   \n",
       "7  \\nLe bruit extérieur est un peu désagréable, s...       39   \n",
       "8  \\nBonjour,\\n \\nc'est une demande inhabituelle,...       85   \n",
       "9  \\nBonjour,\\n \\n \\n \\nAvant d'avoir un sujet au...       31   \n",
       "\n",
       "                                        cleaned_text  \\\n",
       "0  j ai fait la mise a jour de la cartographie co...   \n",
       "1  bonjour  desole pour le titre un peut  putacli...   \n",
       "2  bonjour  j ai voulu lancer une climatisation d...   \n",
       "3  bonjour a tous je suis nouveau sur ce forum et...   \n",
       "4  j ai vu la video d un bricoleur qui a ajoute d...   \n",
       "5  bonjour  quand est il de ce bruit qui reveilla...   \n",
       "6  bonjour  ce matin   comportement un peu etrang...   \n",
       "7  le bruit exterieur est un peu desagreable  sur...   \n",
       "8  bonjour  c est une demande inhabituelle  mais ...   \n",
       "9  bonjour    avant d avoir un sujet au sein  la ...   \n",
       "\n",
       "                                      tokenized_text  \\\n",
       "0  [j, ai, fait, la, mise, a, jour, de, la, carto...   \n",
       "1  [bonjour, desole, pour, le, titre, un, peut, p...   \n",
       "2  [bonjour, j, ai, voulu, lancer, une, climatisa...   \n",
       "3  [bonjour, a, tous, je, suis, nouveau, sur, ce,...   \n",
       "4  [j, ai, vu, la, video, d, un, bricoleur, qui, ...   \n",
       "5  [bonjour, quand, est, il, de, ce, bruit, qui, ...   \n",
       "6  [bonjour, ce, matin, comportement, un, peu, et...   \n",
       "7  [le, bruit, exterieur, est, un, peu, desagreab...   \n",
       "8  [bonjour, c, est, une, demande, inhabituelle, ...   \n",
       "9  [bonjour, avant, d, avoir, un, sujet, au, sein...   \n",
       "\n",
       "                              tokenized_wo_stopwords  \n",
       "0  [fait, mise, jour, cartographie, comme, indiqu...  \n",
       "1  [bonjour, desole, titre, peut, putaclic, rendu...  \n",
       "2  [bonjour, voulu, lancer, climatisation, spring...  \n",
       "3  [bonjour, tous, nouveau, forum, viens, recepti...  \n",
       "4  [vu, video, bricoleur, ajoute, feux, leds, spr...  \n",
       "5  [bonjour, quand, bruit, reveillait, tout, mond...  \n",
       "6  [bonjour, matin, comportement, peu, etrange, a...  \n",
       "7  [bruit, exterieur, peu, desagreable, surtout, ...  \n",
       "8  [bonjour, demande, inhabituelle, aimerais, red...  \n",
       "9  [bonjour, avant, avoir, sujet, sein, charge, a...  "
      ]
     },
     "execution_count": 11,
     "metadata": {},
     "output_type": "execute_result"
    }
   ],
   "source": [
    "df = pd.read_json(\"cleaned_automobile_propre_top10_forums.json\")\n",
    "df.head(10)"
   ]
  },
  {
   "cell_type": "code",
   "execution_count": 12,
   "id": "4ac52568",
   "metadata": {},
   "outputs": [
    {
     "data": {
      "text/plain": [
       "['\\nBonjour,\\n',\n",
       " \"\\nCe matin , comportement un peu étrange de l'appli Dacia.\\n\",\n",
       " \"\\nElle m'indique 100% de batterie, la réalité c'est 62%.\\n\",\n",
       " \"\\nC'est rentré dans l'ordre un peu plus tard.\\n\",\n",
       " '\\n\\xa0\\n',\n",
       " '\\n',\n",
       " '\\n',\n",
       " '\\n',\n",
       " '\\n',\n",
       " '\\n',\n",
       " '\\n']"
      ]
     },
     "execution_count": 12,
     "metadata": {},
     "output_type": "execute_result"
    }
   ],
   "source": [
    "df.iloc[6][\"text\"]"
   ]
  },
  {
   "cell_type": "code",
   "execution_count": 13,
   "id": "d6aa55b5",
   "metadata": {},
   "outputs": [
    {
     "data": {
      "text/plain": [
       "(398199, 11)"
      ]
     },
     "execution_count": 13,
     "metadata": {},
     "output_type": "execute_result"
    }
   ],
   "source": [
    "df.shape"
   ]
  },
  {
   "cell_type": "markdown",
   "id": "01e73eff",
   "metadata": {},
   "source": [
    "# Sentiment analysis"
   ]
  },
  {
   "cell_type": "markdown",
   "id": "071bf34c",
   "metadata": {},
   "source": [
    "## Module"
   ]
  },
  {
   "cell_type": "code",
   "execution_count": 10,
   "id": "0e0c3cf6",
   "metadata": {},
   "outputs": [
    {
     "name": "stdout",
     "output_type": "stream",
     "text": [
      "Requirement already satisfied: vaderSentiment-fr in /Users/Antoine/opt/anaconda3/lib/python3.9/site-packages (1.3.4)\r\n",
      "Requirement already satisfied: unidecode in /Users/Antoine/opt/anaconda3/lib/python3.9/site-packages (from vaderSentiment-fr) (1.2.0)\r\n",
      "Requirement already satisfied: fuzzywuzzy in /Users/Antoine/opt/anaconda3/lib/python3.9/site-packages (from vaderSentiment-fr) (0.18.0)\r\n"
     ]
    }
   ],
   "source": [
    "!pip install vaderSentiment-fr\n",
    "from vaderSentiment_fr.vaderSentiment import SentimentIntensityAnalyzer"
   ]
  },
  {
   "cell_type": "code",
   "execution_count": 8,
   "id": "ef7a74a6",
   "metadata": {},
   "outputs": [
    {
     "name": "stdout",
     "output_type": "stream",
     "text": [
      "{'neg': 0.0, 'neu': 0.725, 'pos': 0.275, 'compound': 0.2247}\n"
     ]
    },
    {
     "data": {
      "text/plain": [
       "{'neg': 0.362, 'neu': 0.638, 'pos': 0.0, 'compound': -0.3119}"
      ]
     },
     "execution_count": 8,
     "metadata": {},
     "output_type": "execute_result"
    }
   ],
   "source": [
    "SIA = SentimentIntensityAnalyzer()\n",
    "print(SIA.polarity_scores( \"Une phrase très cool à analyser\"))\n",
    "SIA.polarity_scores(\"J'ai très très mal\")"
   ]
  },
  {
   "cell_type": "markdown",
   "id": "383fd5ba",
   "metadata": {},
   "source": [
    "## Score calculus"
   ]
  },
  {
   "cell_type": "code",
   "execution_count": 29,
   "id": "9f8ec36a",
   "metadata": {},
   "outputs": [],
   "source": [
    "dict = {}\n",
    "for i, row in df.iterrows():\n",
    "    if (row[\"marque\"], row[\"sous_marque\"]) in dict:\n",
    "        dict[(row[\"marque\"], row[\"sous_marque\"])][0] += 1\n",
    "        dict[(row[\"marque\"], row[\"sous_marque\"])][1] += SIA.polarity_scores(row[\"cleaned_text\"])['compound']\n",
    "    else:\n",
    "        dict[(row[\"marque\"], row[\"sous_marque\"])] = [1, SIA.polarity_scores(row[\"cleaned_text\"])['compound']]"
   ]
  },
  {
   "cell_type": "code",
   "execution_count": 30,
   "id": "88c94079",
   "metadata": {},
   "outputs": [
    {
     "data": {
      "text/plain": [
       "{('Dacia ', 'Dacia Spring'): [5371, 1330.0451000000016],\n",
       " ('Tesla ', 'Tesla Model 3'): [279187, 69102.16929999966],\n",
       " ('Renault ', 'Renault ZOE'): [10375, 3187.1639999999848],\n",
       " ('Fiat ', 'Fiat 500e'): [2231, 384.75060000000013],\n",
       " ('Renault ', 'Renault Twingo ZE'): [1247, 349.4220999999992],\n",
       " ('KIA ', 'KIA e-Niro électrique'): [42033, 8854.034000000242],\n",
       " ('Volkswagen ', 'Volkswagen ID3'): [21964, 5066.557200000087],\n",
       " ('Peugeot ', 'Peugeot e-2008 électrique'): [491, 132.77999999999992],\n",
       " ('Mini ', 'Mini Cooper SE'): [293, 92.16909999999997],\n",
       " ('Peugeot ', 'Peugeot e-208 électrique'): [35007, 6748.877200000088]}"
      ]
     },
     "execution_count": 30,
     "metadata": {},
     "output_type": "execute_result"
    }
   ],
   "source": [
    "dict"
   ]
  },
  {
   "cell_type": "code",
   "execution_count": 31,
   "id": "c3fc9e28",
   "metadata": {},
   "outputs": [
    {
     "data": {
      "text/html": [
       "<div>\n",
       "<style scoped>\n",
       "    .dataframe tbody tr th:only-of-type {\n",
       "        vertical-align: middle;\n",
       "    }\n",
       "\n",
       "    .dataframe tbody tr th {\n",
       "        vertical-align: top;\n",
       "    }\n",
       "\n",
       "    .dataframe thead th {\n",
       "        text-align: right;\n",
       "    }\n",
       "</style>\n",
       "<table border=\"1\" class=\"dataframe\">\n",
       "  <thead>\n",
       "    <tr style=\"text-align: right;\">\n",
       "      <th></th>\n",
       "      <th>nb_reviews</th>\n",
       "      <th>total_score</th>\n",
       "    </tr>\n",
       "  </thead>\n",
       "  <tbody>\n",
       "    <tr>\n",
       "      <th>(Dacia , Dacia Spring)</th>\n",
       "      <td>5371</td>\n",
       "      <td>1330.0451</td>\n",
       "    </tr>\n",
       "    <tr>\n",
       "      <th>(Tesla , Tesla Model 3)</th>\n",
       "      <td>279187</td>\n",
       "      <td>69102.1693</td>\n",
       "    </tr>\n",
       "    <tr>\n",
       "      <th>(Renault , Renault ZOE)</th>\n",
       "      <td>10375</td>\n",
       "      <td>3187.1640</td>\n",
       "    </tr>\n",
       "    <tr>\n",
       "      <th>(Fiat , Fiat 500e)</th>\n",
       "      <td>2231</td>\n",
       "      <td>384.7506</td>\n",
       "    </tr>\n",
       "    <tr>\n",
       "      <th>(Renault , Renault Twingo ZE)</th>\n",
       "      <td>1247</td>\n",
       "      <td>349.4221</td>\n",
       "    </tr>\n",
       "    <tr>\n",
       "      <th>(KIA , KIA e-Niro électrique)</th>\n",
       "      <td>42033</td>\n",
       "      <td>8854.0340</td>\n",
       "    </tr>\n",
       "    <tr>\n",
       "      <th>(Volkswagen , Volkswagen ID3)</th>\n",
       "      <td>21964</td>\n",
       "      <td>5066.5572</td>\n",
       "    </tr>\n",
       "    <tr>\n",
       "      <th>(Peugeot , Peugeot e-2008 électrique)</th>\n",
       "      <td>491</td>\n",
       "      <td>132.7800</td>\n",
       "    </tr>\n",
       "    <tr>\n",
       "      <th>(Mini , Mini Cooper SE)</th>\n",
       "      <td>293</td>\n",
       "      <td>92.1691</td>\n",
       "    </tr>\n",
       "    <tr>\n",
       "      <th>(Peugeot , Peugeot e-208 électrique)</th>\n",
       "      <td>35007</td>\n",
       "      <td>6748.8772</td>\n",
       "    </tr>\n",
       "  </tbody>\n",
       "</table>\n",
       "</div>"
      ],
      "text/plain": [
       "                                       nb_reviews  total_score\n",
       "(Dacia , Dacia Spring)                       5371    1330.0451\n",
       "(Tesla , Tesla Model 3)                    279187   69102.1693\n",
       "(Renault , Renault ZOE)                     10375    3187.1640\n",
       "(Fiat , Fiat 500e)                           2231     384.7506\n",
       "(Renault , Renault Twingo ZE)                1247     349.4221\n",
       "(KIA , KIA e-Niro électrique)               42033    8854.0340\n",
       "(Volkswagen , Volkswagen ID3)               21964    5066.5572\n",
       "(Peugeot , Peugeot e-2008 électrique)         491     132.7800\n",
       "(Mini , Mini Cooper SE)                       293      92.1691\n",
       "(Peugeot , Peugeot e-208 électrique)        35007    6748.8772"
      ]
     },
     "execution_count": 31,
     "metadata": {},
     "output_type": "execute_result"
    }
   ],
   "source": [
    "scores = pd.DataFrame.from_dict(dict, orient='index', columns=['nb_reviews', 'total_score'])\n",
    "scores"
   ]
  },
  {
   "cell_type": "markdown",
   "id": "e8c20120",
   "metadata": {},
   "source": [
    "## Normalization of the score"
   ]
  },
  {
   "cell_type": "code",
   "execution_count": 32,
   "id": "dfbea195",
   "metadata": {},
   "outputs": [],
   "source": [
    "scores[\"mean\"] = scores[\"total_score\"]/scores[\"nb_reviews\"]"
   ]
  },
  {
   "cell_type": "code",
   "execution_count": 33,
   "id": "88cbaccc",
   "metadata": {},
   "outputs": [
    {
     "data": {
      "text/html": [
       "<div>\n",
       "<style scoped>\n",
       "    .dataframe tbody tr th:only-of-type {\n",
       "        vertical-align: middle;\n",
       "    }\n",
       "\n",
       "    .dataframe tbody tr th {\n",
       "        vertical-align: top;\n",
       "    }\n",
       "\n",
       "    .dataframe thead th {\n",
       "        text-align: right;\n",
       "    }\n",
       "</style>\n",
       "<table border=\"1\" class=\"dataframe\">\n",
       "  <thead>\n",
       "    <tr style=\"text-align: right;\">\n",
       "      <th></th>\n",
       "      <th>nb_reviews</th>\n",
       "      <th>total_score</th>\n",
       "      <th>mean</th>\n",
       "    </tr>\n",
       "  </thead>\n",
       "  <tbody>\n",
       "    <tr>\n",
       "      <th>(Dacia , Dacia Spring)</th>\n",
       "      <td>5371</td>\n",
       "      <td>1330.0451</td>\n",
       "      <td>0.247635</td>\n",
       "    </tr>\n",
       "    <tr>\n",
       "      <th>(Tesla , Tesla Model 3)</th>\n",
       "      <td>279187</td>\n",
       "      <td>69102.1693</td>\n",
       "      <td>0.247512</td>\n",
       "    </tr>\n",
       "    <tr>\n",
       "      <th>(Renault , Renault ZOE)</th>\n",
       "      <td>10375</td>\n",
       "      <td>3187.1640</td>\n",
       "      <td>0.307197</td>\n",
       "    </tr>\n",
       "    <tr>\n",
       "      <th>(Fiat , Fiat 500e)</th>\n",
       "      <td>2231</td>\n",
       "      <td>384.7506</td>\n",
       "      <td>0.172457</td>\n",
       "    </tr>\n",
       "    <tr>\n",
       "      <th>(Renault , Renault Twingo ZE)</th>\n",
       "      <td>1247</td>\n",
       "      <td>349.4221</td>\n",
       "      <td>0.280210</td>\n",
       "    </tr>\n",
       "    <tr>\n",
       "      <th>(KIA , KIA e-Niro électrique)</th>\n",
       "      <td>42033</td>\n",
       "      <td>8854.0340</td>\n",
       "      <td>0.210645</td>\n",
       "    </tr>\n",
       "    <tr>\n",
       "      <th>(Volkswagen , Volkswagen ID3)</th>\n",
       "      <td>21964</td>\n",
       "      <td>5066.5572</td>\n",
       "      <td>0.230676</td>\n",
       "    </tr>\n",
       "    <tr>\n",
       "      <th>(Peugeot , Peugeot e-2008 électrique)</th>\n",
       "      <td>491</td>\n",
       "      <td>132.7800</td>\n",
       "      <td>0.270428</td>\n",
       "    </tr>\n",
       "    <tr>\n",
       "      <th>(Mini , Mini Cooper SE)</th>\n",
       "      <td>293</td>\n",
       "      <td>92.1691</td>\n",
       "      <td>0.314570</td>\n",
       "    </tr>\n",
       "    <tr>\n",
       "      <th>(Peugeot , Peugeot e-208 électrique)</th>\n",
       "      <td>35007</td>\n",
       "      <td>6748.8772</td>\n",
       "      <td>0.192787</td>\n",
       "    </tr>\n",
       "  </tbody>\n",
       "</table>\n",
       "</div>"
      ],
      "text/plain": [
       "                                       nb_reviews  total_score      mean\n",
       "(Dacia , Dacia Spring)                       5371    1330.0451  0.247635\n",
       "(Tesla , Tesla Model 3)                    279187   69102.1693  0.247512\n",
       "(Renault , Renault ZOE)                     10375    3187.1640  0.307197\n",
       "(Fiat , Fiat 500e)                           2231     384.7506  0.172457\n",
       "(Renault , Renault Twingo ZE)                1247     349.4221  0.280210\n",
       "(KIA , KIA e-Niro électrique)               42033    8854.0340  0.210645\n",
       "(Volkswagen , Volkswagen ID3)               21964    5066.5572  0.230676\n",
       "(Peugeot , Peugeot e-2008 électrique)         491     132.7800  0.270428\n",
       "(Mini , Mini Cooper SE)                       293      92.1691  0.314570\n",
       "(Peugeot , Peugeot e-208 électrique)        35007    6748.8772  0.192787"
      ]
     },
     "execution_count": 33,
     "metadata": {},
     "output_type": "execute_result"
    }
   ],
   "source": [
    "scores"
   ]
  },
  {
   "cell_type": "code",
   "execution_count": 34,
   "id": "16099e17",
   "metadata": {},
   "outputs": [],
   "source": [
    "scores[\"normalized\"] = (scores[\"mean\"]-scores[\"mean\"].mean())/scores[\"mean\"].std()"
   ]
  },
  {
   "cell_type": "code",
   "execution_count": 35,
   "id": "6bb546dc",
   "metadata": {},
   "outputs": [
    {
     "data": {
      "text/html": [
       "<div>\n",
       "<style scoped>\n",
       "    .dataframe tbody tr th:only-of-type {\n",
       "        vertical-align: middle;\n",
       "    }\n",
       "\n",
       "    .dataframe tbody tr th {\n",
       "        vertical-align: top;\n",
       "    }\n",
       "\n",
       "    .dataframe thead th {\n",
       "        text-align: right;\n",
       "    }\n",
       "</style>\n",
       "<table border=\"1\" class=\"dataframe\">\n",
       "  <thead>\n",
       "    <tr style=\"text-align: right;\">\n",
       "      <th></th>\n",
       "      <th>nb_reviews</th>\n",
       "      <th>total_score</th>\n",
       "      <th>mean</th>\n",
       "      <th>normalized</th>\n",
       "    </tr>\n",
       "  </thead>\n",
       "  <tbody>\n",
       "    <tr>\n",
       "      <th>(Dacia , Dacia Spring)</th>\n",
       "      <td>5371</td>\n",
       "      <td>1330.0451</td>\n",
       "      <td>0.247635</td>\n",
       "      <td>0.004741</td>\n",
       "    </tr>\n",
       "    <tr>\n",
       "      <th>(Tesla , Tesla Model 3)</th>\n",
       "      <td>279187</td>\n",
       "      <td>69102.1693</td>\n",
       "      <td>0.247512</td>\n",
       "      <td>0.002139</td>\n",
       "    </tr>\n",
       "    <tr>\n",
       "      <th>(Renault , Renault ZOE)</th>\n",
       "      <td>10375</td>\n",
       "      <td>3187.1640</td>\n",
       "      <td>0.307197</td>\n",
       "      <td>1.270645</td>\n",
       "    </tr>\n",
       "    <tr>\n",
       "      <th>(Fiat , Fiat 500e)</th>\n",
       "      <td>2231</td>\n",
       "      <td>384.7506</td>\n",
       "      <td>0.172457</td>\n",
       "      <td>-1.593058</td>\n",
       "    </tr>\n",
       "    <tr>\n",
       "      <th>(Renault , Renault Twingo ZE)</th>\n",
       "      <td>1247</td>\n",
       "      <td>349.4221</td>\n",
       "      <td>0.280210</td>\n",
       "      <td>0.697089</td>\n",
       "    </tr>\n",
       "    <tr>\n",
       "      <th>(KIA , KIA e-Niro électrique)</th>\n",
       "      <td>42033</td>\n",
       "      <td>8854.0340</td>\n",
       "      <td>0.210645</td>\n",
       "      <td>-0.781422</td>\n",
       "    </tr>\n",
       "    <tr>\n",
       "      <th>(Volkswagen , Volkswagen ID3)</th>\n",
       "      <td>21964</td>\n",
       "      <td>5066.5572</td>\n",
       "      <td>0.230676</td>\n",
       "      <td>-0.355699</td>\n",
       "    </tr>\n",
       "    <tr>\n",
       "      <th>(Peugeot , Peugeot e-2008 électrique)</th>\n",
       "      <td>491</td>\n",
       "      <td>132.7800</td>\n",
       "      <td>0.270428</td>\n",
       "      <td>0.489176</td>\n",
       "    </tr>\n",
       "    <tr>\n",
       "      <th>(Mini , Mini Cooper SE)</th>\n",
       "      <td>293</td>\n",
       "      <td>92.1691</td>\n",
       "      <td>0.314570</td>\n",
       "      <td>1.427364</td>\n",
       "    </tr>\n",
       "    <tr>\n",
       "      <th>(Peugeot , Peugeot e-208 électrique)</th>\n",
       "      <td>35007</td>\n",
       "      <td>6748.8772</td>\n",
       "      <td>0.192787</td>\n",
       "      <td>-1.160975</td>\n",
       "    </tr>\n",
       "  </tbody>\n",
       "</table>\n",
       "</div>"
      ],
      "text/plain": [
       "                                       nb_reviews  total_score      mean  \\\n",
       "(Dacia , Dacia Spring)                       5371    1330.0451  0.247635   \n",
       "(Tesla , Tesla Model 3)                    279187   69102.1693  0.247512   \n",
       "(Renault , Renault ZOE)                     10375    3187.1640  0.307197   \n",
       "(Fiat , Fiat 500e)                           2231     384.7506  0.172457   \n",
       "(Renault , Renault Twingo ZE)                1247     349.4221  0.280210   \n",
       "(KIA , KIA e-Niro électrique)               42033    8854.0340  0.210645   \n",
       "(Volkswagen , Volkswagen ID3)               21964    5066.5572  0.230676   \n",
       "(Peugeot , Peugeot e-2008 électrique)         491     132.7800  0.270428   \n",
       "(Mini , Mini Cooper SE)                       293      92.1691  0.314570   \n",
       "(Peugeot , Peugeot e-208 électrique)        35007    6748.8772  0.192787   \n",
       "\n",
       "                                       normalized  \n",
       "(Dacia , Dacia Spring)                   0.004741  \n",
       "(Tesla , Tesla Model 3)                  0.002139  \n",
       "(Renault , Renault ZOE)                  1.270645  \n",
       "(Fiat , Fiat 500e)                      -1.593058  \n",
       "(Renault , Renault Twingo ZE)            0.697089  \n",
       "(KIA , KIA e-Niro électrique)           -0.781422  \n",
       "(Volkswagen , Volkswagen ID3)           -0.355699  \n",
       "(Peugeot , Peugeot e-2008 électrique)    0.489176  \n",
       "(Mini , Mini Cooper SE)                  1.427364  \n",
       "(Peugeot , Peugeot e-208 électrique)    -1.160975  "
      ]
     },
     "execution_count": 35,
     "metadata": {},
     "output_type": "execute_result"
    }
   ],
   "source": [
    "scores"
   ]
  },
  {
   "cell_type": "markdown",
   "id": "7e52d894",
   "metadata": {},
   "source": [
    "## Score plotting"
   ]
  },
  {
   "cell_type": "code",
   "execution_count": 50,
   "id": "53ebd194",
   "metadata": {},
   "outputs": [
    {
     "data": {
      "text/plain": [
       "<AxesSubplot:>"
      ]
     },
     "execution_count": 50,
     "metadata": {},
     "output_type": "execute_result"
    },
    {
     "data": {
      "image/png": "[encoded data removed]",
      "text/plain": [
       "<Figure size 504x504 with 2 Axes>"
      ]
     },
     "metadata": {
      "needs_background": "light"
     },
     "output_type": "display_data"
    }
   ],
   "source": [
    "final_scores = pd.DataFrame(scores[\"normalized\"])\n",
    "\n",
    "plt.figure(figsize=(7, 7))\n",
    "sns.heatmap(final_scores, annot=True, fmt=\"g\", cmap='RdYlGn')"
   ]
  }
 ],
 "metadata": {
  "kernelspec": {
   "display_name": "Python 3 (ipykernel)",
   "language": "python",
   "name": "python3"
  },
  "language_info": {
   "codemirror_mode": {
    "name": "ipython",
    "version": 3
   },
   "file_extension": ".py",
   "mimetype": "text/x-python",
   "name": "python",
   "nbconvert_exporter": "python",
   "pygments_lexer": "ipython3",
   "version": "3.9.7"
  }
 },
 "nbformat": 4,
 "nbformat_minor": 5
}
